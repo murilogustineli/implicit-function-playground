{
 "cells": [
  {
   "cell_type": "markdown",
   "id": "bf6d21a7",
   "metadata": {},
   "source": [
    "# Function Approximation using Neural Networks"
   ]
  },
  {
   "cell_type": "code",
   "execution_count": 1,
   "id": "77b8c251",
   "metadata": {},
   "outputs": [],
   "source": [
    "import torch\n",
    "import matplotlib.pyplot as plt"
   ]
  },
  {
   "cell_type": "code",
   "execution_count": 2,
   "id": "2eba4ace",
   "metadata": {},
   "outputs": [],
   "source": [
    "# create data\n",
    "x = torch.unsqueeze(torch.linspace(-2, 2, 1000), dim=1)\n",
    "y = x.pow(2)"
   ]
  },
  {
   "cell_type": "code",
   "execution_count": 3,
   "id": "3e9030bf",
   "metadata": {},
   "outputs": [
    {
     "ename": "ModuleNotFoundError",
     "evalue": "No module named 'implicitnet'",
     "output_type": "error",
     "traceback": [
      "\u001b[31m---------------------------------------------------------------------------\u001b[39m",
      "\u001b[31mModuleNotFoundError\u001b[39m                       Traceback (most recent call last)",
      "\u001b[36mCell\u001b[39m\u001b[36m \u001b[39m\u001b[32mIn[3]\u001b[39m\u001b[32m, line 1\u001b[39m\n\u001b[32m----> \u001b[39m\u001b[32m1\u001b[39m \u001b[38;5;28;01mfrom\u001b[39;00m\u001b[38;5;250m \u001b[39m\u001b[34;01mimplicitnet\u001b[39;00m\u001b[34;01m.\u001b[39;00m\u001b[34;01mplotting\u001b[39;00m\u001b[38;5;250m \u001b[39m\u001b[38;5;28;01mimport\u001b[39;00m plot_function\n\u001b[32m      3\u001b[39m plot_function(x, y)\n",
      "\u001b[31mModuleNotFoundError\u001b[39m: No module named 'implicitnet'"
     ]
    }
   ],
   "source": [
    "from implicitnet.plotting import plot_function\n",
    "\n",
    "plot_function(x, y)"
   ]
  },
  {
   "cell_type": "code",
   "execution_count": null,
   "id": "2db7354f",
   "metadata": {},
   "outputs": [],
   "source": [
    "!which python"
   ]
  },
  {
   "cell_type": "code",
   "execution_count": null,
   "id": "9b27a5e8",
   "metadata": {},
   "outputs": [],
   "source": [
    "!uv pip freeze | grep implicitnet"
   ]
  },
  {
   "cell_type": "code",
   "execution_count": null,
   "id": "e29cb20c",
   "metadata": {},
   "outputs": [],
   "source": []
  }
 ],
 "metadata": {
  "kernelspec": {
   "display_name": ".venvnet (3.11.6)",
   "language": "python",
   "name": "python3"
  },
  "language_info": {
   "codemirror_mode": {
    "name": "ipython",
    "version": 3
   },
   "file_extension": ".py",
   "mimetype": "text/x-python",
   "name": "python",
   "nbconvert_exporter": "python",
   "pygments_lexer": "ipython3",
   "version": "3.11.6"
  }
 },
 "nbformat": 4,
 "nbformat_minor": 5
}
